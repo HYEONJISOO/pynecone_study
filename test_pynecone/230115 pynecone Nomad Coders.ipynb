{
 "cells": [
  {
   "cell_type": "code",
   "execution_count": 3,
   "id": "936910c7",
   "metadata": {},
   "outputs": [],
   "source": [
    "import pynecone as pc\n",
    "import requests "
   ]
  },
  {
   "cell_type": "code",
   "execution_count": 2,
   "id": "77df8d05",
   "metadata": {},
   "outputs": [
    {
     "name": "stdout",
     "output_type": "stream",
     "text": [
      "Collecting pynecone\n",
      "  Downloading pynecone-0.0.70-py3-none-any.whl (26 kB)\n",
      "Requirement already satisfied: Jinja2 in ./opt/anaconda3/envs/env_pc/lib/python3.10/site-packages (from pynecone) (3.1.2)\n",
      "Collecting requests-toolbelt\n",
      "  Downloading requests_toolbelt-0.10.1-py2.py3-none-any.whl (54 kB)\n",
      "\u001b[2K     \u001b[90m━━━━━━━━━━━━━━━━━━━━━━━━━━━━━━━━━━━━━━━━\u001b[0m \u001b[32m54.5/54.5 kB\u001b[0m \u001b[31m3.7 MB/s\u001b[0m eta \u001b[36m0:00:00\u001b[0m\n",
      "\u001b[?25hCollecting tabulate\n",
      "  Downloading tabulate-0.9.0-py3-none-any.whl (35 kB)\n",
      "Requirement already satisfied: certifi in ./opt/anaconda3/envs/env_pc/lib/python3.10/site-packages (from pynecone) (2022.12.7)\n",
      "Requirement already satisfied: requests in ./opt/anaconda3/envs/env_pc/lib/python3.10/site-packages (from pynecone) (2.28.1)\n",
      "Collecting pika\n",
      "  Downloading pika-1.3.1-py3-none-any.whl (155 kB)\n",
      "\u001b[2K     \u001b[90m━━━━━━━━━━━━━━━━━━━━━━━━━━━━━━━━━━━━━━━\u001b[0m \u001b[32m155.3/155.3 kB\u001b[0m \u001b[31m6.4 MB/s\u001b[0m eta \u001b[36m0:00:00\u001b[0m\n",
      "\u001b[?25hCollecting SQLAlchemy\n",
      "  Downloading SQLAlchemy-1.4.46.tar.gz (8.5 MB)\n",
      "\u001b[2K     \u001b[90m━━━━━━━━━━━━━━━━━━━━━━━━━━━━━━━━━━━━━━━━\u001b[0m \u001b[32m8.5/8.5 MB\u001b[0m \u001b[31m6.4 MB/s\u001b[0m eta \u001b[36m0:00:00\u001b[0m00:01\u001b[0m00:01\u001b[0m\n",
      "\u001b[?25h  Preparing metadata (setup.py) ... \u001b[?25ldone\n",
      "\u001b[?25hCollecting python-dotenv\n",
      "  Using cached python_dotenv-0.21.0-py3-none-any.whl (18 kB)\n",
      "Collecting pyyaml\n",
      "  Using cached PyYAML-6.0-cp310-cp310-macosx_11_0_arm64.whl (173 kB)\n",
      "Collecting keyring\n",
      "  Downloading keyring-23.13.1-py3-none-any.whl (37 kB)\n",
      "Requirement already satisfied: MarkupSafe>=2.0 in ./opt/anaconda3/envs/env_pc/lib/python3.10/site-packages (from Jinja2->pynecone) (2.1.1)\n",
      "Collecting importlib-metadata>=4.11.4\n",
      "  Using cached importlib_metadata-6.0.0-py3-none-any.whl (21 kB)\n",
      "Collecting jaraco.classes\n",
      "  Downloading jaraco.classes-3.2.3-py3-none-any.whl (6.0 kB)\n",
      "Requirement already satisfied: charset-normalizer<3,>=2 in ./opt/anaconda3/envs/env_pc/lib/python3.10/site-packages (from requests->pynecone) (2.0.4)\n",
      "Requirement already satisfied: idna<4,>=2.5 in ./opt/anaconda3/envs/env_pc/lib/python3.10/site-packages (from requests->pynecone) (3.4)\n",
      "Requirement already satisfied: urllib3<1.27,>=1.21.1 in ./opt/anaconda3/envs/env_pc/lib/python3.10/site-packages (from requests->pynecone) (1.26.13)\n",
      "Collecting zipp>=0.5\n",
      "  Using cached zipp-3.11.0-py3-none-any.whl (6.6 kB)\n",
      "Collecting more-itertools\n",
      "  Using cached more_itertools-9.0.0-py3-none-any.whl (52 kB)\n",
      "Building wheels for collected packages: SQLAlchemy\n",
      "  Building wheel for SQLAlchemy (setup.py) ... \u001b[?25ldone\n",
      "\u001b[?25h  Created wheel for SQLAlchemy: filename=SQLAlchemy-1.4.46-cp310-cp310-macosx_11_0_arm64.whl size=1561267 sha256=473f3e342e214399870175b94687806ea634857db7e0670b939397b02e789f7d\n",
      "  Stored in directory: /Users/hyeonjisoo/Library/Caches/pip/wheels/2f/63/e7/5e8ba3d4d6a5f4ecd42c07063066ff329262da068628c41c6f\n",
      "Successfully built SQLAlchemy\n",
      "Installing collected packages: zipp, tabulate, SQLAlchemy, pyyaml, python-dotenv, pika, more-itertools, requests-toolbelt, jaraco.classes, importlib-metadata, keyring, pynecone\n",
      "Successfully installed SQLAlchemy-1.4.46 importlib-metadata-6.0.0 jaraco.classes-3.2.3 keyring-23.13.1 more-itertools-9.0.0 pika-1.3.1 pynecone-0.0.70 python-dotenv-0.21.0 pyyaml-6.0 requests-toolbelt-0.10.1 tabulate-0.9.0 zipp-3.11.0\n"
     ]
    }
   ],
   "source": [
    "!pip install pynecone\n",
    "# 아까 콘다로 했는데 왜 안깔렸지??"
   ]
  },
  {
   "cell_type": "code",
   "execution_count": null,
   "id": "e6c58d40",
   "metadata": {},
   "outputs": [],
   "source": [
    "def index():\n",
    "    return pc.center(\n",
    "        pc.vstack(\n",
    "            pc.heading(\n",
    "                'click!',\n",
    "                font_size=\"2rem\",\n",
    "                margin_botton=10            \n",
    "            ),        \n",
    "            pc.hstack(\n",
    "                pc.button(\n",
    "                    \"-\",\n",
    "                    size='1g',\n",
    "                ),\n",
    "                pc.text(\"0\"),\n",
    "                pd.button(\n",
    "                    \"+\",\n",
    "                    size=\"1g\",\n",
    "                ),\n",
    "                spacing=\"20px\",\n",
    "            ),\n",
    "        ),\n",
    "        padding_top =\"10%\",\n",
    "        font_size=\"2rem\"\n",
    "    )\n",
    "\n",
    "app = pc.App(state=State)\n",
    "app.add_page(index)\n",
    "app.compile()\n",
    "\n",
    "\n"
   ]
  }
 ],
 "metadata": {
  "kernelspec": {
   "display_name": "Python 3 (ipykernel)",
   "language": "python",
   "name": "python3"
  },
  "language_info": {
   "codemirror_mode": {
    "name": "ipython",
    "version": 3
   },
   "file_extension": ".py",
   "mimetype": "text/x-python",
   "name": "python",
   "nbconvert_exporter": "python",
   "pygments_lexer": "ipython3",
   "version": "3.10.8"
  }
 },
 "nbformat": 4,
 "nbformat_minor": 5
}
